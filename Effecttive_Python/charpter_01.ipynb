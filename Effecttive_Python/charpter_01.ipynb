{
 "cells": [
  {
   "cell_type": "markdown",
   "metadata": {},
   "source": [
    "# Item 1: Know Which Version of Python You're Using"
   ]
  },
  {
   "cell_type": "code",
   "execution_count": 15,
   "metadata": {},
   "outputs": [
    {
     "name": "stdout",
     "output_type": "stream",
     "text": [
      "sys.version_info(major=3, minor=6, micro=7, releaselevel='final', serial=0)\n",
      "3.6.7 (default, Oct 22 2018, 11:32:17) \n",
      "[GCC 8.2.0]\n"
     ]
    }
   ],
   "source": [
    "import sys\n",
    "print(sys.version_info)\n",
    "print(sys.version)"
   ]
  },
  {
   "cell_type": "markdown",
   "metadata": {},
   "source": [
    "# Item 2: Follow the PEP 8 Style Guide\n",
    "\n",
    "1. Whitespace\n",
    "    - Funtions and classes should be separated by two blank lines.\n",
    "    - In a class, methos should be separated by one blank line.\n",
    "1. Naming\n",
    "    - Protected instance attributes should be in `_leading_underscore` format.\n",
    "    - Private instance attributes should be in `__double_leading_underscore` format.\n",
    "    - Module-level constants should be in `ALL_CAPS` format.\n",
    "1. Expression and Statements\n",
    "    - Avoid single-line `if` statements, `for` and `while` loops, and `except` compund statements. Separate these over multiple lines for clarity.\n",
    "    - If you can't fit an expression on one line, surround it with parentheses and add line breaks and indentaition to make it easier to read.\n",
    "    - Prefer surrounding multiline expression with parentheses over using `\\` line continuation character.\n",
    "1. Imports"
   ]
  },
  {
   "cell_type": "code",
   "execution_count": 16,
   "metadata": {},
   "outputs": [
    {
     "name": "stdout",
     "output_type": "stream",
     "text": [
      "[1, 2]\n"
     ]
    }
   ],
   "source": [
    "def foo():\n",
    "    ls = [[1, 2], [], [1, 2, 3]]\n",
    "    for l in ls:\n",
    "        if (not l or\n",
    "            len(l) > 2): continue\n",
    "        print(l)\n",
    "\n",
    "foo()"
   ]
  },
  {
   "cell_type": "markdown",
   "metadata": {},
   "source": [
    "bar\n",
    "  |-> foo.py\n",
    "  |-> me.py\n",
    "\n",
    "#me.py\n",
    "\n",
    "import foo          # relative import\n",
    "from . import foo   # relative import\n",
    "\n",
    "from bar import foo # absolute path"
   ]
  },
  {
   "cell_type": "markdown",
   "metadata": {},
   "source": [
    "# Item 3: Know the Differences Between bytes and str \n",
    "Two representation of character sequences data\n",
    "1. `bytes`: contains raw, unsigned 8-bit values.\n",
    "1. `str`: contains *Unicode code points*, represent textual characters from human languages\n",
    "\n",
    "Notes\n",
    "- *UFT-8* is commonly used encoding\n",
    "\n",
    "`bytes`"
   ]
  },
  {
   "cell_type": "code",
   "execution_count": 38,
   "metadata": {},
   "outputs": [],
   "source": [
    "def _type(a):\n",
    "    print(f'`{a}` is of type `{type(a)}`')"
   ]
  },
  {
   "cell_type": "code",
   "execution_count": 39,
   "metadata": {},
   "outputs": [
    {
     "name": "stdout",
     "output_type": "stream",
     "text": [
      "[104, 101, 108, 108, 111]\n",
      "`b'hello'` is of type `<class 'bytes'>`\n"
     ]
    }
   ],
   "source": [
    "# bytes representation\n",
    "a = b'h\\x65llo'\n",
    "print(list(a))\n",
    "_type(a)"
   ]
  },
  {
   "cell_type": "code",
   "execution_count": 40,
   "metadata": {},
   "outputs": [
    {
     "name": "stdout",
     "output_type": "stream",
     "text": [
      "`b'hello'` is of type `<class 'bytes'>`\n"
     ]
    }
   ],
   "source": [
    "# convert bytes to str\n",
    "a.decode('utf-8')\n",
    "_type(a)"
   ]
  },
  {
   "cell_type": "markdown",
   "metadata": {},
   "source": [
    "`str`"
   ]
  },
  {
   "cell_type": "code",
   "execution_count": 41,
   "metadata": {},
   "outputs": [
    {
     "name": "stdout",
     "output_type": "stream",
     "text": [
      "['a', '̀', ' ', 'p', 'r', 'o', 'p', 'o', 's']\n",
      "`à propos` is of type `<class 'str'>`\n"
     ]
    }
   ],
   "source": [
    "# str representation\n",
    "a = 'a\\u0300 propos'\n",
    "print(list(a))\n",
    "_type(a)"
   ]
  },
  {
   "cell_type": "code",
   "execution_count": 42,
   "metadata": {},
   "outputs": [
    {
     "name": "stdout",
     "output_type": "stream",
     "text": [
      "`b'a\\xcc\\x80 propos'` is of type `<class 'bytes'>`\n"
     ]
    }
   ],
   "source": [
    "# convert str to bytes\n",
    "a = a.encode('utf-8')\n",
    "_type(a)"
   ]
  },
  {
   "cell_type": "markdown",
   "metadata": {},
   "source": [
    "#### Two common situation in python code when dealing with character types\n",
    "1. We want to operate on raw 8-bit sequences that contains UTF-8-encoded strings (or some other encoding)\n",
    "1. We want to opetate on Unicode strings that have no specific encoding (must be UFT-8)\n",
    "\n",
    "### UTF-8\n",
    "A in ascii 01100001 in UTF-8 **110**00001 **10**100001 -> 00001 100001, `110` tells there 2 bytes, similarly `1110` tells there are \n",
    "three bytes to represent the the character. `10` mean continuation of byte. Remaining bits are filled with bits to represent the character. \n",
    "\n",
    "For eg: if ཀ -> 00000000 00000000 00010011 00101101 in 32-bits. UTF-8 representation is **1110**00001 **10**001100 **10**101101\n",
    "\n",
    "Helper functions to convert between above two cases and to ensure that the type of input is what our code expects.\n",
    "\n",
    "### Find Unicode index of ཀ"
   ]
  },
  {
   "cell_type": "code",
   "execution_count": 79,
   "metadata": {},
   "outputs": [
    {
     "data": {
      "text/plain": [
       "b'\\xe0\\xbd\\x80'"
      ]
     },
     "execution_count": 79,
     "metadata": {},
     "output_type": "execute_result"
    }
   ],
   "source": [
    "'ཀ'.encode('utf-8')"
   ]
  },
  {
   "cell_type": "code",
   "execution_count": 80,
   "metadata": {},
   "outputs": [
    {
     "data": {
      "text/plain": [
       "'11100000 10111101 10000000'"
      ]
     },
     "execution_count": 80,
     "metadata": {},
     "output_type": "execute_result"
    }
   ],
   "source": [
    "\" \".join(f\"{i:08b}\" for i in (0xe0, 0xbd, 0x80))"
   ]
  },
  {
   "cell_type": "markdown",
   "metadata": {},
   "source": [
    "Extract character bits from UTF-8 bits:\n",
    "\n",
    "Steps\n",
    "1. Seperate UTF-8 hack codes into bold, **1110**0000 **10**111101 **10**000000\n",
    "2. Extract all the non-bold bits, 0000 111101 000000\n",
    "3. Concatenate the bits, 0000111101000000\n",
    "\n"
   ]
  },
  {
   "cell_type": "code",
   "execution_count": 83,
   "metadata": {},
   "outputs": [
    {
     "data": {
      "text/plain": [
       "3904"
      ]
     },
     "execution_count": 83,
     "metadata": {},
     "output_type": "execute_result"
    }
   ],
   "source": [
    "int('0000111101000000', 2)"
   ]
  },
  {
   "cell_type": "markdown",
   "metadata": {},
   "source": [
    "Check for index from Unicode Table"
   ]
  },
  {
   "cell_type": "code",
   "execution_count": 86,
   "metadata": {},
   "outputs": [
    {
     "data": {
      "image/png": "[encoded data removed]",
      "text/plain": [
       "<IPython.core.display.Image object>"
      ]
     },
     "execution_count": 86,
     "metadata": {},
     "output_type": "execute_result"
    }
   ],
   "source": [
    "from IPython.display import Image\n",
    "Image(filename='assets/imgs/ka.png') "
   ]
  },
  {
   "cell_type": "code",
   "execution_count": 58,
   "metadata": {},
   "outputs": [
    {
     "name": "stdout",
     "output_type": "stream",
     "text": [
      "`foo` is of type `<class 'str'>`\n",
      "`bar` is of type `<class 'str'>`\n"
     ]
    }
   ],
   "source": [
    "def to_str(bytes_or_str):\n",
    "    if isinstance(bytes_or_str, bytes):\n",
    "        value = bytes_or_str.decode('utf-8')\n",
    "    else:\n",
    "        value = bytes_or_str\n",
    "    return value # always str instance\n",
    "\n",
    "_type(to_str(b'foo'))\n",
    "_type(to_str('bar'))"
   ]
  },
  {
   "cell_type": "code",
   "execution_count": 64,
   "metadata": {},
   "outputs": [
    {
     "name": "stdout",
     "output_type": "stream",
     "text": [
      "`b'foo'` is of type `<class 'bytes'>`\n",
      "`b'bar'` is of type `<class 'bytes'>`\n"
     ]
    }
   ],
   "source": [
    "def to_bytes(bytes_or_str):\n",
    "    if isinstance(bytes_or_str, str):\n",
    "        value = bytes_or_str.encode('utf-8')\n",
    "    else:\n",
    "        value = bytes_or_str\n",
    "    return value # always byte instance\n",
    "\n",
    "_type(to_bytes(b'foo'))\n",
    "_type(to_bytes('bar'))"
   ]
  }
 ],
 "metadata": {
  "kernelspec": {
   "display_name": "Python 3",
   "language": "python",
   "name": "python3"
  },
  "language_info": {
   "codemirror_mode": {
    "name": "ipython",
    "version": 3
   },
   "file_extension": ".py",
   "mimetype": "text/x-python",
   "name": "python",
   "nbconvert_exporter": "python",
   "pygments_lexer": "ipython3",
   "version": "3.6.7"
  }
 },
 "nbformat": 4,
 "nbformat_minor": 2
}
